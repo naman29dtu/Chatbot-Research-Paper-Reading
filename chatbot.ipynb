{
 "cells": [
  {
   "cell_type": "code",
   "execution_count": 16,
   "id": "1ab407e2",
   "metadata": {},
   "outputs": [],
   "source": [
    "import re"
   ]
  },
  {
   "cell_type": "code",
   "execution_count": 17,
   "id": "fe09f75a",
   "metadata": {},
   "outputs": [],
   "source": [
    "import random"
   ]
  },
  {
   "cell_type": "code",
   "execution_count": 18,
   "id": "c18cd808",
   "metadata": {},
   "outputs": [],
   "source": [
    "class Rulebot: \n",
    "  #potential negetive responses\n",
    "  negetive_responses=(\"no\", \"nope\", \"neh\", \"naw\", \"not a chance\", \"sorry\")\n",
    "  #exit conversation command\n",
    "  exit_comands=(\"quit\", \"pause\", \"exit\", \"goodbye\", \"bye\", \"later\")\n",
    "  #random starter questions\n",
    "  random_questions = (\n",
    "              \"Why are you here?\"\n",
    "              \"Are there many humans like you? \"\n",
    "              \"What do you consume for sustenance? \"\n",
    "              \"Is there intelligent life on this planet? \",\n",
    "              \"Does Earth have a leader?\",\n",
    "              \"What planets have you visited? \"\n",
    "              \"What technology do you have on this planet?\"\n",
    "  )   \n",
    "\n",
    "  def __init__(self):\n",
    "    self.alienbabble = {'describe_planet_intent': r'.*\\s*your planet.*',\n",
    "                                'answer_why intent': r'why\\sare.*',\n",
    "                                'about_intellipat': r'.*\\s*intellipaat'\n",
    "                       }\n",
    "  \n",
    "  def greet(self):\n",
    "    self.name=input(\"what is your name?\\n\")\n",
    "    will_help=input(\n",
    "        f\"Hi {self.name}, I am rule bot. will you help me learn about your planet?\\n\")\n",
    "    if will_help in self.negetive_responses:\n",
    "      print(\"ok, have a nice earth day!\")\n",
    "      return \n",
    "    self.chat()\n",
    "\n",
    "\n",
    "  def make_exit(self, reply):\n",
    "    for comand in self.exit_comands:\n",
    "      if reply==comand:\n",
    "        print(\"ok, have a nice earth day!\")\n",
    "        return True\n",
    "\n",
    "  def chat(self):\n",
    "    reply=input(random.choice(self.random_questions)).lower()\n",
    "    while not self.make_exit(reply):\n",
    "      reply=input(self.match_reply(reply))\n",
    "\n",
    "  def match_reply(self, reply):\n",
    "    for key, value in self.alienbabble.items():\n",
    "      intent=key\n",
    "      regex_pattern=value\n",
    "      found_match=re.match(regex_pattern, reply)\n",
    "      if found_match and intent=='describe_planet_intent':\n",
    "        return self.describe_planet_intent()\n",
    "      elif found_match and intent=='answer_why_intent':\n",
    "        return self.answer_why_intent()\n",
    "      elif found_match and intent=='about_intellipat':\n",
    "        return self.about_intellipat()\n",
    "    \n",
    "    if not found_match:\n",
    "      return self.no_match_intent()\n",
    "\n",
    "  def describe_planet_intent(self):\n",
    "    responses=(\"My planet is a utopia of diverse organisms and species.\\n\",\n",
    "               \"I am from Opidipus, the capital of the Wayward Galaxies.\\n\")\n",
    "    return random.choice(responses)\n",
    "\n",
    "  def answer_why_intent(self):\n",
    "    responses=(\"I come in peace.\\n\", \"I am here to collect data on your planet andits inhabitants.\\n\",\n",
    "                \"I heard the coffee is good\\n\")\n",
    "    return random.choice(responses)\n",
    "\n",
    "  def no_match_intent(self):\n",
    "    responses=(\"Please tell me more. \\n\", \"Tell me more! \\n\", \"why do you say that?\\n\", \"I see. Can you elaborate?\\n\",\n",
    "                \"Interesting. Can you tell me more?\\n\", \"I see. How do you think?\\n\", \"Why?\\n\",\n",
    "                \"How do you think I feel when you say that? \\n\")  \n",
    "    return random.choice(responses)\n",
    "  \n",
    "  def about_intellipat(self):\n",
    "     responses = (\"Intellipaat is world's largest professional educational company.\\n\", \"Intellipaat will make you learn concepts in the way.\\n\"\n",
    "                    \"Intellipaat is where your career and skill grows\\n\")\n",
    "     return random.choice(responses)\n"
   ]
  },
  {
   "cell_type": "code",
   "execution_count": 19,
   "id": "5b398a60",
   "metadata": {},
   "outputs": [
    {
     "name": "stdout",
     "output_type": "stream",
     "text": [
      "what is your name?\n",
      "\n",
      "Hi , I am rule bot. will you help me learn about your planet?\n",
      "\n",
      "What planets have you visited? What technology do you have on this planet?\n",
      "I see. How do you think?\n",
      "quit\n",
      "ok, have a nice earth day!\n"
     ]
    }
   ],
   "source": [
    "alienBot=Rulebot()\n",
    "alienBot.greet()"
   ]
  },
  {
   "cell_type": "code",
   "execution_count": 53,
   "id": "2d8eaa0e",
   "metadata": {},
   "outputs": [],
   "source": [
    "import numpy as np"
   ]
  },
  {
   "cell_type": "code",
   "execution_count": 54,
   "id": "d1c270a2",
   "metadata": {},
   "outputs": [],
   "source": [
    "import nltk\n",
    "import string\n",
    "import random"
   ]
  },
  {
   "cell_type": "code",
   "execution_count": 55,
   "id": "ca81f6f6",
   "metadata": {},
   "outputs": [
    {
     "data": {
      "text/plain": [
       "\"Aeration is an effective and cost-efficient technique for increasing dissolved oxygen (DO) content in water bodies. It supports the survival of numerous aquatic lives. An accurate estimation of aeration in different hydraulic structure using conventional techniques is time-consuming and inaccurate. Hence, novel, efficient methods that are computationally fast and accurate are required. This paper presents three machine learning models: (1) Extreme Learning Machine (ELM) Model, (2) Online Sequential Extreme Learning Machine (OS-ELM) model, and (3) Incremental Extreme Learning Machine (I-ELM) model techniques. These techniques assess the aeration performance of the three types of Piano Key Weirs (PKWs), i.e. type A, B and C. These models have been developed considering three features, viz Cd, Cs, and Cu at different temperatures, that significantly influence the weirs' aeration efficiency. The performances of the models are measured and compared using mean square error (MSE), root mean square error (RMSE), correlation coefficient (CC), mean absolute error (MAE), and Nash-Sutcliffe efficiency (NSE). This work concludes that the I-ELM model performs the best for complete available data that does not change with time. \\n\""
      ]
     },
     "execution_count": 55,
     "metadata": {},
     "output_type": "execute_result"
    }
   ],
   "source": [
    "f=open(\"data.txt\", 'r', errors='ignore')\n",
    "raw_doc=f.read()\n",
    "raw_doc"
   ]
  },
  {
   "cell_type": "code",
   "execution_count": 56,
   "id": "3f7bdfd1",
   "metadata": {},
   "outputs": [
    {
     "name": "stderr",
     "output_type": "stream",
     "text": [
      "[nltk_data] Downloading package punkt to\n",
      "[nltk_data]     /Users/niyatinarwal/nltk_data...\n",
      "[nltk_data]   Package punkt is already up-to-date!\n",
      "[nltk_data] Downloading package wordnet to\n",
      "[nltk_data]     /Users/niyatinarwal/nltk_data...\n",
      "[nltk_data]   Package wordnet is already up-to-date!\n",
      "[nltk_data] Downloading package omw-1.4 to\n",
      "[nltk_data]     /Users/niyatinarwal/nltk_data...\n",
      "[nltk_data]   Package omw-1.4 is already up-to-date!\n"
     ]
    }
   ],
   "source": [
    "raw_doc=raw_doc.lower()\n",
    "nltk.download('punkt')\n",
    "nltk.download('wordnet')\n",
    "nltk.download('omw-1.4')\n",
    "sentence_token=nltk.sent_tokenize(raw_doc)\n",
    "word_tokens=nltk.word_tokenize(raw_doc)"
   ]
  },
  {
   "cell_type": "code",
   "execution_count": 57,
   "id": "dbef6a61",
   "metadata": {},
   "outputs": [
    {
     "data": {
      "text/plain": [
       "\"aeration is an effective and cost-efficient technique for increasing dissolved oxygen (do) content in water bodies. it supports the survival of numerous aquatic lives. an accurate estimation of aeration in different hydraulic structure using conventional techniques is time-consuming and inaccurate. hence, novel, efficient methods that are computationally fast and accurate are required. this paper presents three machine learning models: (1) extreme learning machine (elm) model, (2) online sequential extreme learning machine (os-elm) model, and (3) incremental extreme learning machine (i-elm) model techniques. these techniques assess the aeration performance of the three types of piano key weirs (pkws), i.e. type a, b and c. these models have been developed considering three features, viz cd, cs, and cu at different temperatures, that significantly influence the weirs' aeration efficiency. the performances of the models are measured and compared using mean square error (mse), root mean square error (rmse), correlation coefficient (cc), mean absolute error (mae), and nash-sutcliffe efficiency (nse). this work concludes that the i-elm model performs the best for complete available data that does not change with time. \\n\""
      ]
     },
     "execution_count": 57,
     "metadata": {},
     "output_type": "execute_result"
    }
   ],
   "source": [
    "raw_doc"
   ]
  },
  {
   "cell_type": "code",
   "execution_count": 58,
   "id": "065db1b2",
   "metadata": {},
   "outputs": [],
   "source": [
    "sentence_token=nltk.sent_tokenize(raw_doc)\n",
    "word_tokens=nltk.word_tokenize(raw_doc)"
   ]
  },
  {
   "cell_type": "code",
   "execution_count": 59,
   "id": "5f3119eb",
   "metadata": {},
   "outputs": [
    {
     "data": {
      "text/plain": [
       "['aeration is an effective and cost-efficient technique for increasing dissolved oxygen (do) content in water bodies.',\n",
       " 'it supports the survival of numerous aquatic lives.']"
      ]
     },
     "execution_count": 59,
     "metadata": {},
     "output_type": "execute_result"
    }
   ],
   "source": [
    "sentence_token[:2]"
   ]
  },
  {
   "cell_type": "code",
   "execution_count": 60,
   "id": "bc0186cf",
   "metadata": {},
   "outputs": [
    {
     "data": {
      "text/plain": [
       "['aeration', 'is', 'an', 'effective']"
      ]
     },
     "execution_count": 60,
     "metadata": {},
     "output_type": "execute_result"
    }
   ],
   "source": [
    "word_tokens[:4]"
   ]
  },
  {
   "cell_type": "code",
   "execution_count": 61,
   "id": "1029ee3c",
   "metadata": {},
   "outputs": [],
   "source": [
    "lemmer=nltk.stem.WordNetLemmatizer()\n",
    "def LemTokens(tokens):\n",
    "  return [lemmer.lemmatize(token) for token in tokens]\n",
    "remove_punc_dict=dict((ord(punct), None) for punct in string.punctuation)\n",
    "def LemNormalize(text):\n",
    "  return LemTokens(nltk.word_tokenize(text.lower().translate(remove_punc_dict)))"
   ]
  },
  {
   "cell_type": "code",
   "execution_count": 62,
   "id": "b08825a6",
   "metadata": {},
   "outputs": [],
   "source": [
    "greet_inputs=('hi', 'hello','wassup', 'how are you')\n",
    "greet_responses=('hi', 'hey there', 'there there')\n",
    "def greet(sentence):\n",
    "  for word in sentence.split():\n",
    "    if word.lower() in greet_inputs:\n",
    "      return random.choice(greet_responses)\n"
   ]
  },
  {
   "cell_type": "code",
   "execution_count": 63,
   "id": "e75ad4fd",
   "metadata": {},
   "outputs": [],
   "source": [
    "from sklearn.feature_extraction.text import TfidfVectorizer\n",
    "from sklearn.metrics.pairwise import cosine_similarity"
   ]
  },
  {
   "cell_type": "code",
   "execution_count": 64,
   "id": "132a1ec3",
   "metadata": {},
   "outputs": [],
   "source": [
    "def response (user_response):\n",
    "    robo1_response = ''\n",
    "    TfidfVec=TfidfVectorizer (tokenizer = LemNormalize, stop_words ='english')\n",
    "    tfidf = TfidfVec.fit_transform(sentence_token)\n",
    "    vals = cosine_similarity(tfidf[-1], tfidf)\n",
    "    idx = vals.argsort()[0][-2]\n",
    "    flat = vals.flatten()\n",
    "    flat.sort()\n",
    "    req_tfidf=flat[-2]\n",
    "    if (req_tfidf == 0):\n",
    "        robo1_response = robo1_response + \"I am sorry. Unable to understand you!\"\n",
    "        return robo1_response \n",
    "    else:\n",
    "        robo1_response = robo1_response+ sentence_token[idx]\n",
    "        return robo1_response"
   ]
  },
  {
   "cell_type": "code",
   "execution_count": 65,
   "id": "42deafa9",
   "metadata": {},
   "outputs": [
    {
     "name": "stdout",
     "output_type": "stream",
     "text": [
      "Hello! I am the Retreival Learning Bot. Start typing your text after greeting to talk to me. For ending convo type bye!\n",
      "hi\n",
      "bot hi\n",
      "can you tell me about aeration\n",
      "Bot: these techniques assess the aeration performance of the three types of piano key weirs (pkws), i.e.\n",
      "tell me about uses of aeration\n",
      "Bot: these techniques assess the aeration performance of the three types of piano key weirs (pkws), i.e.\n",
      "what is aeration\n",
      "Bot: these techniques assess the aeration performance of the three types of piano key weirs (pkws), i.e.\n",
      "dissolved oxygen \n",
      "Bot: aeration is an effective and cost-efficient technique for increasing dissolved oxygen (do) content in water bodies.\n",
      "universe\n",
      "Bot: I am sorry. Unable to understand you!\n",
      "how performance of model is calculated\n",
      "Bot: these techniques assess the aeration performance of the three types of piano key weirs (pkws), i.e.\n",
      "performance of model is measured by\n",
      "Bot: the performances of the models are measured and compared using mean square error (mse), root mean square error (rmse), correlation coefficient (cc), mean absolute error (mae), and nash-sutcliffe efficiency (nse).\n",
      "bye\n",
      "Bot: Goodbye!\n"
     ]
    }
   ],
   "source": [
    "flag=True\n",
    "print('Hello! I am the Retreival Learning Bot. Start typing your text after greeting to talk to me. For ending convo type bye!')\n",
    "while(flag == True):\n",
    "  user_response = input()\n",
    "  user_response =user_response.lower()\n",
    "  if (user_response!= 'bye'):\n",
    "    if(user_response =='thank you' or user_response == 'thanks'):\n",
    "            flag = False\n",
    "            print ('Bot: You are Welcome..')\n",
    "    else:\n",
    "      if(greet(user_response) != None):\n",
    "          print('bot ' + greet(user_response))\n",
    "      else:\n",
    "        sentence_token.append (user_response)\n",
    "        word_tokens = word_tokens + nltk.word_tokenize(user_response)\n",
    "        final_words= list (set (word_tokens))\n",
    "        print('Bot: ', end ='')\n",
    "        print (response (user_response))\n",
    "        sentence_token.remove(user_response)\n",
    "\n",
    "  else:\n",
    "      flag=False\n",
    "      print('Bot: Goodbye!')"
   ]
  },
  {
   "cell_type": "code",
   "execution_count": null,
   "id": "11f96e66",
   "metadata": {},
   "outputs": [],
   "source": []
  }
 ],
 "metadata": {
  "kernelspec": {
   "display_name": "Python 3 (ipykernel)",
   "language": "python",
   "name": "python3"
  },
  "language_info": {
   "codemirror_mode": {
    "name": "ipython",
    "version": 3
   },
   "file_extension": ".py",
   "mimetype": "text/x-python",
   "name": "python",
   "nbconvert_exporter": "python",
   "pygments_lexer": "ipython3",
   "version": "3.11.4"
  }
 },
 "nbformat": 4,
 "nbformat_minor": 5
}
